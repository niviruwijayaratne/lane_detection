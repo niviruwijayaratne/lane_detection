{
 "cells": [
  {
   "cell_type": "code",
   "execution_count": 40,
   "metadata": {},
   "outputs": [],
   "source": [
    "import torch\n",
    "import torchvision\n",
    "import torch.nn as nn\n",
    "import torch.nn.functional as F\n",
    "from torchsummary import summary\n",
    "import numpy as np\n",
    "import matplotlib.pyplot as plt"
   ]
  },
  {
   "cell_type": "code",
   "execution_count": 64,
   "metadata": {},
   "outputs": [],
   "source": [
    "class LayerUtil:\n",
    "    def __init__(self):\n",
    "        pass\n",
    "    \n",
    "    def conv(self, in_channels, filters, kernel_size):\n",
    "        return nn.Conv2d(in_channels = in_channels, out_channels = filters, kernel_size = kernel_size)\n",
    "    \n",
    "    def pool(self, kernel_size = (2,2), stride = 2):\n",
    "        return nn.MaxPool2d(kernel_size = kernel_size, stride = stride)\n",
    "    \n",
    "    def deconv(self, in_channels, filters, kernel_size):\n",
    "            return nn.ConvTranspose2d(in_channels = in_channels, out_channels = out_channels, kernel_size = kernel_size)\n",
    "\n",
    "class UNet(nn.Module):\n",
    "    def __init__(self):\n",
    "        super(UNet, self).__init__()\n",
    "        self.helper = LayerUtil()\n",
    "        self.layer1 = self.helper.conv(3, 64, (3,3))\n",
    "        self.layer2 = self.helper.conv(64, 128, (3,3))\n",
    "        self.pool1 = self.helper.pool((3,3), 2)\n",
    "        self.sigmoid = nn.Sigmoid()\n",
    "        \n",
    "    def forward(self, inputs):\n",
    "        return self.sigmoid(self.pool1(self.layer2(self.layer1(inputs))))\n",
    "    "
   ]
  },
  {
   "cell_type": "code",
   "execution_count": 67,
   "metadata": {},
   "outputs": [
    {
     "name": "stdout",
     "output_type": "stream",
     "text": [
      "==========================================================================================\n",
      "Layer (type:depth-idx)                   Output Shape              Param #\n",
      "==========================================================================================\n",
      "├─Conv2d: 1-1                            [-1, 64, 62, 62]          1,792\n",
      "├─Conv2d: 1-2                            [-1, 128, 60, 60]         73,856\n",
      "├─MaxPool2d: 1-3                         [-1, 128, 29, 29]         --\n",
      "├─Sigmoid: 1-4                           [-1, 128, 29, 29]         --\n",
      "==========================================================================================\n",
      "Total params: 75,648\n",
      "Trainable params: 75,648\n",
      "Non-trainable params: 0\n",
      "Total mult-adds (M): 272.06\n",
      "==========================================================================================\n",
      "Input size (MB): 0.05\n",
      "Forward/backward pass size (MB): 5.39\n",
      "Params size (MB): 0.29\n",
      "Estimated Total Size (MB): 5.73\n",
      "==========================================================================================\n"
     ]
    }
   ],
   "source": [
    "model = UNet()\n",
    "input_tensor = torch.rand(12, 3, 64,64)\n",
    "final = model(input_tensor)"
   ]
  },
  {
   "cell_type": "code",
   "execution_count": null,
   "metadata": {},
   "outputs": [],
   "source": []
  }
 ],
 "metadata": {
  "kernelspec": {
   "display_name": "torchenv",
   "language": "python",
   "name": "torchenv"
  },
  "language_info": {
   "codemirror_mode": {
    "name": "ipython",
    "version": 3
   },
   "file_extension": ".py",
   "mimetype": "text/x-python",
   "name": "python",
   "nbconvert_exporter": "python",
   "pygments_lexer": "ipython3",
   "version": "3.7.6"
  }
 },
 "nbformat": 4,
 "nbformat_minor": 4
}
